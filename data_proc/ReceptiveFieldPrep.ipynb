{
 "cells": [
  {
   "cell_type": "code",
   "execution_count": 1,
   "metadata": {},
   "outputs": [],
   "source": [
    "#Data downloaded from https://janelia.figshare.com/articles/dataset/Recordings_of_ten_thousand_neurons_in_visual_cortex_in_response_to_2_800_natural_images/6845348"
   ]
  },
  {
   "cell_type": "code",
   "execution_count": 24,
   "metadata": {},
   "outputs": [],
   "source": [
    "from EnsemblePursuit.EnsemblePursuit import EnsemblePursuit\n",
    "import numpy as np\n",
    "import matplotlib.pyplot as plt\n",
    "from scipy.io import loadmat\n",
    "from sklearn.linear_model import ridge_regression\n",
    "import torch\n",
    "from scipy.ndimage import gaussian_filter\n",
    "import cv2"
   ]
  },
  {
   "cell_type": "code",
   "execution_count": 117,
   "metadata": {},
   "outputs": [],
   "source": [
    "dat_path='C:/Users/koester_lab/Documents/Maria/CarsenData/2800/natimg2800_M170717_MP033_2017-08-20.mat'\n",
    "dat_path='C:/Users/koester_lab/Documents/Maria/CarsenData/2800/natimg2800_M170717_MP034_2017-09-11.mat'\n",
    "im_path='C:/Users/koester_lab/Downloads/images_natimg2800_all.mat'"
   ]
  },
  {
   "cell_type": "code",
   "execution_count": 118,
   "metadata": {},
   "outputs": [],
   "source": [
    "from scipy.stats import zscore\n",
    "from scipy.sparse.linalg import eigsh\n",
    "\n",
    "\n",
    "def subtract_spont(spont,resp):\n",
    "    #print(spont)\n",
    "    mu = spont.mean(axis=0)\n",
    "    sd = spont.std(axis=0) + 1e-6\n",
    "    resp = (resp - mu) / sd\n",
    "    spont = (spont - mu) / sd\n",
    "    sv,u = eigsh(spont.T @ spont, k=32)\n",
    "    resp = resp - (resp @ u) @ u.T\n",
    "    return resp\n",
    "\n",
    "def test_train_split(data,stim):\n",
    "    unique, counts = np.unique(stim.flatten(), return_counts=True)\n",
    "    count_dict=dict(zip(unique, counts))\n",
    "\n",
    "    keys_with_enough_data=[]\n",
    "    for key in count_dict.keys():\n",
    "        if count_dict[key]==2:\n",
    "            keys_with_enough_data.append(key)\n",
    "\n",
    "    filtered_stims=np.isin(stim.flatten(),keys_with_enough_data)\n",
    "\n",
    "    #Arrange data so that responses with the same stimulus are adjacent\n",
    "    z=stim.flatten()[np.where(filtered_stims)[0]]\n",
    "    sortd=np.argsort(z)\n",
    "    istim=np.sort(z)\n",
    "    X=data[filtered_stims,:]\n",
    "    out=X[sortd,:].copy()\n",
    "\n",
    "    x_train=out[::2,:]\n",
    "    y_train=istim[::2]\n",
    "    x_test=out[1::2,:]\n",
    "    y_test=istim[1::2]\n",
    "\n",
    "    return x_train, x_test, y_train, y_test\n",
    "\n",
    "def zscore_utils(X, axis=0):\n",
    "    mean_X= np.mean(X,axis=axis)\n",
    "    std_X = np.std(X, axis=axis) + 1e-10\n",
    "    X -= np.expand_dims(mean_X, axis)\n",
    "    X /= np.expand_dims(std_X, axis)\n",
    "\n",
    "    return X\n",
    "\n",
    "def plot_all_receptive_fields(B):\n",
    "    fig=plt.figure(figsize=(15, 10))\n",
    "    for ind1 in range(50):\n",
    "        vmax=np.max(B) * 2/3\n",
    "        plt.subplot(10, 5, ind1+1)\n",
    "        plt.imshow(B[:,:,ind1],cmap='bwr',vmin=-vmax,vmax=vmax)\n",
    "        plt.axis('off')\n",
    "        plt.title(str(ind1))\n",
    "\n",
    "def fit_ridge_with_plot(V,im_path,dat_path):\n",
    "    \n",
    "    img=loadmat(im_path)['imgs']\n",
    "    data=loadmat(dat_path)\n",
    "    resp = data['stim'][0]['resp'][0]\n",
    "    spont =data['stim'][0]['spont'][0]\n",
    "    X=subtract_spont(spont,resp)\n",
    "    X = zscore_utils(X, axis=1)\n",
    "    model=EnsemblePursuit(n_components=50,lam=0.01,n_kmeans=50)\n",
    "    model.fit(X)\n",
    "    V = model.components_\n",
    "    stim = data['stim']['istim'][0][0].astype(np.int32)\n",
    "    print(stim.shape)\n",
    "    ishape = (img.shape[0]//5, img.shape[1]//5)\n",
    "    images = np.zeros((2800, ) + (ishape[0], ishape[1]))\n",
    "    for j in range(images.shape[0]):\n",
    "        images[j] = cv2.resize(img[:,:,j], (ishape[1], ishape[0]))\n",
    "    images = images.reshape((2800, -1))\n",
    "    images = zscore_utils(images, axis=1)\n",
    "    #stim = data['stim']['istim'][0][0].astype(np.int32)\n",
    "    x_train,x_test,y_train,y_test=test_train_split(V,stim)\n",
    "    y_train=y_train-1\n",
    "    images_ = images[y_train]\n",
    "    print(images_.shape)\n",
    "    av_resp = (x_train + x_test)/2\n",
    "    B = np.linalg.solve(images_.T @ images_ +  100 * np.eye(images_.shape[1]), images_.T @ av_resp)\n",
    "    print(B.shape)\n",
    "    B = np.reshape(B, ishape+(50,))\n",
    "    print(B.shape)\n",
    "    B = gaussian_filter(B, (.5, .5, 0))\n",
    "    plot_all_receptive_fields(B)"
   ]
  },
  {
   "cell_type": "code",
   "execution_count": null,
   "metadata": {},
   "outputs": [
    {
     "name": "stdout",
     "output_type": "stream",
     "text": [
      "obtained 50 PCs in 1.0423 seconds\n",
      "initialized 50 clusters with k-means in 9.4485 seconds\n",
      "ensemble 0, time 2.18, nr neurons 1452, EV 0.0042\n"
     ]
    }
   ],
   "source": [
    "fit_ridge_with_plot(V,im_path,dat_path)"
   ]
  },
  {
   "cell_type": "code",
   "execution_count": null,
   "metadata": {},
   "outputs": [],
   "source": []
  }
 ],
 "metadata": {
  "kernelspec": {
   "display_name": "Python 3",
   "language": "python",
   "name": "python3"
  },
  "language_info": {
   "codemirror_mode": {
    "name": "ipython",
    "version": 3
   },
   "file_extension": ".py",
   "mimetype": "text/x-python",
   "name": "python",
   "nbconvert_exporter": "python",
   "pygments_lexer": "ipython3",
   "version": "3.8.3"
  }
 },
 "nbformat": 4,
 "nbformat_minor": 4
}
